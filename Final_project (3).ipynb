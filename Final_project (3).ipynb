{
 "cells": [
  {
   "cell_type": "markdown",
   "metadata": {},
   "source": [
    "# PROJECT-4\n",
    "## Решение комплексной бизнес-задачи"
   ]
  },
  {
   "cell_type": "code",
   "execution_count": null,
   "metadata": {},
   "outputs": [],
   "source": [
    "# технический блок\n",
    "\n",
    "import pandas as pd\n",
    "import psycopg2\n",
    "import itertools\n",
    "import numpy as np\n",
    "from collections import Counter\n",
    "\n",
    "# Функция, которая вытаскивает данные из MetaBase по запросу. В нее необходимо передать код запроса на SQL.\n",
    "def get_sql_data(query):\n",
    "    try:\n",
    "        connection = psycopg2.connect(\n",
    "            dbname = 'skillfactory',\n",
    "            user = 'skillfactory',\n",
    "            host = '84.201.134.129',\n",
    "            password = 'cCkxxLVrDE8EbvjueeMedPKt',\n",
    "            port = 5432\n",
    "        )\n",
    "        curs = connection.cursor()\n",
    "        curs.execute(query)\n",
    "        data = curs.fetchall()\n",
    "        connection.commit()\n",
    "    except(Exception, psycopg2.Error) as error:\n",
    "        if connection:\n",
    "            print('Error', error)\n",
    "    finally:\n",
    "        if connection:\n",
    "            curs.close()\n",
    "    connection.close()\n",
    "    return data\n",
    "\n",
    "# Функция, возвращающая рекомендованные курсы в соответствии с уже выбранным. В нее необходимо передать\n",
    "# идентификатор выбранного курса, к которому нужны рекомендации, топ популярных пар и топ популяроности курсов,\n",
    "# для подбора рекомендаций в случаях, когда нельзя подобрать популярную пару.\n",
    "def rec(resource_id):\n",
    "    rec_pair = []\n",
    "    for pair in selection_top:\n",
    "        if resource_id in pair:\n",
    "            rec_pair.append(pair[pair.index(resource_id)-1])\n",
    "        if len(rec_pair)==2: break\n",
    "    \n",
    "    if len(rec_pair)==0:\n",
    "        rec_pair.extend(top_courses[0:2])\n",
    "        \n",
    "    if len(rec_pair)==1:\n",
    "        rec_pair.append(top_courses[0])\n",
    "        \n",
    "    return rec_pair\n",
    "        \n",
    "    "
   ]
  },
  {
   "cell_type": "markdown",
   "metadata": {},
   "source": [
    "### Знакомство с данными"
   ]
  },
  {
   "cell_type": "markdown",
   "metadata": {},
   "source": [
    "Определим за какие годы у нас есть данные о продажах:"
   ]
  },
  {
   "cell_type": "code",
   "execution_count": null,
   "metadata": {},
   "outputs": [],
   "source": [
    "query = '''SELECT extract(year FROM purchased_at) AS purch_year\n",
    "FROM final.carts\n",
    "GROUP BY purch_year\n",
    "'''\n",
    "display(get_sql_data(query))"
   ]
  },
  {
   "cell_type": "markdown",
   "metadata": {},
   "source": [
    "Определим количество клиентов, которые покупали курсы за рассматриваемый период:"
   ]
  },
  {
   "cell_type": "code",
   "execution_count": null,
   "metadata": {},
   "outputs": [],
   "source": [
    "query = '''SELECT count(DISTINCT user_id)\n",
    "FROM final.cart_items AS i\n",
    "INNER JOIN final.carts AS c ON c.ID = i.cart_id\n",
    "WHERE resource_type LIKE 'Course'\n",
    "\tAND STATE LIKE 'successful'\n",
    "'''\n",
    "display(get_sql_data(query))"
   ]
  },
  {
   "cell_type": "markdown",
   "metadata": {},
   "source": [
    "Определим количество уникальных курсов в базе и их популярность:"
   ]
  },
  {
   "cell_type": "code",
   "execution_count": null,
   "metadata": {},
   "outputs": [],
   "source": [
    "query = '''SELECT resource_id\n",
    "FROM final.cart_items AS i\n",
    "INNER JOIN final.carts AS c ON c.ID = i.cart_id\n",
    "WHERE resource_type LIKE 'Course'\n",
    "'''\n",
    "\n",
    "courses_data = get_sql_data(query)\n",
    "\n",
    "all_courses = list()\n",
    "\n",
    "for course in courses_data:\n",
    "    all_courses.append(course[0])\n",
    "\n",
    "# Рассмотрим уникальные курсы:\n",
    "unique_courses = list(set(all_courses))\n",
    "print('В базе найдено', len(unique_courses), 'уникальных курсов')\n",
    "\n",
    "# Выделим наиболее популярные курсы, которые будут учтены в рекомендациях:\n",
    "top_courses = list(pd.Series(all_courses).value_counts().sort_values(ascending=False).keys()[0:2])\n",
    "print('Два наиболее популярных курса:', top_courses)"
   ]
  },
  {
   "cell_type": "markdown",
   "metadata": {},
   "source": [
    "Подсчитаем среднее число купленных курсов на одного клиента:"
   ]
  },
  {
   "cell_type": "code",
   "execution_count": null,
   "metadata": {},
   "outputs": [],
   "source": [
    "query = '''SELECT avg(q.quantity)\n",
    "FROM (\n",
    "\tSELECT count(DISTINCT resource_id) AS quantity\n",
    "\tFROM final.cart_items AS i\n",
    "\tINNER JOIN final.carts AS c ON c.ID = i.cart_id\n",
    "\tWHERE resource_type LIKE 'Course'\n",
    "\t\tAND STATE LIKE 'successful'\n",
    "\tGROUP BY user_id\n",
    "\t) AS q\n",
    " '''\n",
    "display(get_sql_data(query))"
   ]
  },
  {
   "cell_type": "markdown",
   "metadata": {},
   "source": [
    "Определим сколько клиентов купили больше одного курса:"
   ]
  },
  {
   "cell_type": "code",
   "execution_count": null,
   "metadata": {},
   "outputs": [],
   "source": [
    "query = '''SELECT count(q.user_id)\n",
    "FROM (\n",
    "\tSELECT user_id, count(DISTINCT resource_id) AS quantity\n",
    "\tFROM final.cart_items AS i\n",
    "\tINNER JOIN final.carts AS c ON c.ID = i.cart_id\n",
    "\tWHERE resource_type LIKE 'Course'\n",
    "\t\tAND STATE LIKE 'successful'\n",
    "\tGROUP BY user_id\n",
    "\t) AS q\n",
    "WHERE quantity > 1\n",
    "'''\n",
    "display(get_sql_data(query))"
   ]
  },
  {
   "cell_type": "markdown",
   "metadata": {},
   "source": [
    "### Подготовка данных"
   ]
  },
  {
   "cell_type": "markdown",
   "metadata": {},
   "source": [
    "Подготовим данные по продажам курсов в разрезе пользователей и разобьем все покупки курсов по парам:"
   ]
  },
  {
   "cell_type": "code",
   "execution_count": null,
   "metadata": {},
   "outputs": [],
   "source": [
    "query = '''WITH bulk_buyers\n",
    "AS (\n",
    "\tSELECT user_id\n",
    "\tFROM final.cart_items AS i\n",
    "\tINNER JOIN final.carts AS c ON c.ID = i.cart_id\n",
    "\tWHERE resource_type LIKE 'Course'\n",
    "\t\tAND STATE LIKE 'successful'\n",
    "\tGROUP BY user_id\n",
    "\tHAVING count(DISTINCT resource_id) > 1\n",
    "\tORDER BY 1\n",
    "\t)\n",
    "SELECT DISTINCT user_id, resource_id\n",
    "FROM final.cart_items AS i\n",
    "INNER JOIN final.carts AS c ON c.ID = i.cart_id\n",
    "WHERE resource_type LIKE 'Course'\n",
    "\tAND STATE LIKE 'successful'\n",
    "\tAND user_id IN (\n",
    "\t\tSELECT *\n",
    "\t\tFROM bulk_buyers\n",
    "\t\t)\n",
    "ORDER BY 1,2\n",
    "'''\n",
    "\n",
    "data = get_sql_data(query)\n",
    "\n",
    "# Преобразуем полученные данные в DataFrame:\n",
    "df = pd.DataFrame(data=data, columns = ['user_id', 'resource_id'])\n",
    "df_courses = df.groupby(by='user_id')['resource_id'].agg([list])\n",
    "\n",
    "# Сформируем список пар курсов:\n",
    "courses_pairs = list()\n",
    "for courses in df_courses['list']:\n",
    "    for courses_pair in itertools.combinations(courses, 2):\n",
    "        courses_pairs.append(courses_pair)\n",
    "\n",
    "# Преобразуем наш список в Series и воспользуемся агригацией для определения количества уникальных пар:\n",
    "pairs_series = pd.Series(courses_pairs).sort_values()\n",
    "print('В базе найдено', pairs_series.nunique(), 'уникальных пар курсов, которые встречаются вместе в покупках клиентов')\n",
    "\n",
    "# Определим уровень популярность пар курсов:\n",
    "rating_pairs = Counter(courses_pairs).most_common()\n",
    "print('Самая популярная пара курсов:', rating_pairs[0][0])"
   ]
  },
  {
   "cell_type": "markdown",
   "metadata": {},
   "source": [
    "### Формирование итогового результата"
   ]
  },
  {
   "cell_type": "markdown",
   "metadata": {},
   "source": [
    "Сформируем таблицу, которая станет основой рекомендательной системы:"
   ]
  },
  {
   "cell_type": "code",
   "execution_count": null,
   "metadata": {},
   "outputs": [],
   "source": [
    "# Опеределим нижнюю границу, как квантиль 25%, так как выбросов в данных не замечено:\n",
    "rating_value = []\n",
    "for i in rating_pairs:\n",
    "    rating_value.append(i[1])\n",
    "lower_limit = np.quantile(rating_value, 0.25)\n",
    "\n",
    "# Сформируем упорядоченную выборку пар для подбора рекомендаций\n",
    "selection_top = []\n",
    "for i in rating_pairs:\n",
    "    if i[1]>lower_limit:\n",
    "        selection_top.append(i[0])\n",
    "\n",
    "\n",
    "# Сформируем таблицу, в которой:\n",
    "# resource_id - идентификатор курса, к которому подобраны рекомендации\n",
    "# rec1 - отдельно иднтификатор первого рекомендованного курса\n",
    "# rec2 - отдельно идентификатор второго рекомендованного курса.\n",
    "df = pd.DataFrame({'resource_id': unique_courses})\n",
    "df['rec'] = df['resource_id'].apply(rec)\n",
    "df['rec1'] = df['rec'].apply(lambda x: x[0])\n",
    "df['rec2'] = df['rec'].apply(lambda x: x[1])\n",
    "df = df.drop('rec', axis=1)\n",
    "\n",
    "display(df)\n"
   ]
  }
 ],
 "metadata": {
  "kernelspec": {
   "display_name": "Python 3",
   "language": "python",
   "name": "python3"
  },
  "language_info": {
   "codemirror_mode": {
    "name": "ipython",
    "version": 3
   },
   "file_extension": ".py",
   "mimetype": "text/x-python",
   "name": "python",
   "nbconvert_exporter": "python",
   "pygments_lexer": "ipython3",
   "version": "3.10.5"
  }
 },
 "nbformat": 4,
 "nbformat_minor": 2
}
